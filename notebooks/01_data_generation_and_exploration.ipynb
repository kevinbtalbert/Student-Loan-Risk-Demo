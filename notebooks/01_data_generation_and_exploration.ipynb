{
  "cells": [
    {
      "cell_type": "markdown",
      "metadata": {},
      "source": [
        "# Student Loan Risk Demo - Data Generation and Exploration\n",
        "\n",
        "This notebook demonstrates the generation and exploration of synthetic student loan data for risk modeling.\n",
        "\n",
        "**Project Overview:**\n",
        "- **Client:** LoanTech Solutions (Student Loan Processing Company)\n",
        "- **Partner:** StudentCare Solutions (Follow-up with at-risk students)\n",
        "- **Objective:** Predict student loan delinquency risk\n",
        "- **Platform:** Cloudera Machine Learning\n"
      ]
    },
    {
      "cell_type": "code",
      "execution_count": null,
      "metadata": {},
      "outputs": [],
      "source": [
        "# Import required libraries\n",
        "import pandas as pd\n",
        "import numpy as np\n",
        "import matplotlib.pyplot as plt\n",
        "import seaborn as sns\n",
        "import plotly.express as px\n",
        "import plotly.graph_objects as go\n",
        "from plotly.subplots import make_subplots\n",
        "import warnings\n",
        "import sys\n",
        "import os\n",
        "\n",
        "# Add utils to path\n",
        "sys.path.append('../utils')\n",
        "\n",
        "# Import custom modules\n",
        "from data_generator import StudentLoanDataGenerator\n",
        "\n",
        "# Configure plotting\n",
        "plt.style.use('seaborn-v0_8')\n",
        "sns.set_palette(\"husl\")\n",
        "warnings.filterwarnings('ignore')\n",
        "\n",
        "# Set random seed for reproducibility\n",
        "np.random.seed(42)\n",
        "\n",
        "print(\"Environment setup complete!\")\n"
      ]
    }
  ],
  "metadata": {
    "language_info": {
      "name": "python"
    }
  },
  "nbformat": 4,
  "nbformat_minor": 2
}
